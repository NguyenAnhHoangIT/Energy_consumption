{
 "cells": [
  {
   "cell_type": "code",
   "execution_count": null,
   "metadata": {},
   "outputs": [
    {
     "name": "stdout",
     "output_type": "stream",
     "text": [
      "actual is 6744.0, predicted is [5410.33866853]\n"
     ]
    }
   ],
   "source": [
    "import numpy as np\n",
    "import pandas as pd\n",
    "import matplotlib.pyplot as plt\n",
    "from sklearn.preprocessing import MinMaxScaler\n",
    "from sklearn.model_selection import train_test_split\n",
    "from sklearn.ensemble import RandomForestRegressor\n",
    "import seaborn as sns\n",
    "import sys\n",
    "sys.path.append(\"..\")\n",
    "from server.database_api.api import *\n",
    "\n",
    "def predictData(col_name):\n",
    "        data = getAll('energy_data')\n",
    "\n",
    "        data.fillna(value=0, inplace=True) #neu co null, NaN thay the = 0\n",
    "\n",
    "        # Convert 'interval_start_utc' to a datetime format\n",
    "        data['interval_start_utc'] = pd.to_datetime(data['interval_start_utc'])\n",
    "\n",
    "        # Group by day and compute the median for each day and energy source\n",
    "        data['date'] = data['interval_start_utc'].dt.date\n",
    "        cleaned_data = data.groupby('date').median()\n",
    "\n",
    "        cleaned_data.fillna(0, inplace=True)\n",
    "\n",
    "        cleaned_data = cleaned_data.filter(['date', col_name], axis=1)\n",
    "\n",
    "        s = cleaned_data.values\n",
    "        observed_size = 7\n",
    "        overlap_size = 2\n",
    "        predict_distance = 1\n",
    "\n",
    "        samples = int((len(s) - observed_size) / (observed_size - overlap_size))\n",
    "        X = np.stack([s[i * (observed_size - overlap_size):i * (observed_size - overlap_size) + observed_size] for i in range(samples)])\n",
    "        Y = np.stack([s[i * (observed_size - overlap_size) + observed_size + predict_distance] [-1]for i in range(samples)])\n",
    "\n",
    "        X.shape\n",
    "        Y.shape\n",
    "\n",
    "        X = X.reshape(X.shape[0], -1)\n",
    "\n",
    "        X_train, X_test, y_train, y_test = train_test_split(X, Y, test_size=0.3, random_state=42)\n",
    "\n",
    "        regr = RandomForestRegressor(max_depth=2, random_state=0)\n",
    "        regr.fit(X_train, y_train)\n",
    "\n",
    "        regr.score(X_test, y_test)\n",
    "\n",
    "        single_data = X_test[11]\n",
    "        single_data\n",
    "\n",
    "        predicted_temp = regr.predict(single_data.reshape(1, -1))\n",
    "\n",
    "        return predicted_temp"
   ]
  }
 ],
 "metadata": {
  "kernelspec": {
   "display_name": "base",
   "language": "python",
   "name": "python3"
  },
  "language_info": {
   "codemirror_mode": {
    "name": "ipython",
    "version": 3
   },
   "file_extension": ".py",
   "mimetype": "text/x-python",
   "name": "python",
   "nbconvert_exporter": "python",
   "pygments_lexer": "ipython3",
   "version": "3.12.3"
  }
 },
 "nbformat": 4,
 "nbformat_minor": 2
}
